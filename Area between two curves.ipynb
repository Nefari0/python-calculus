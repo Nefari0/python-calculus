{
 "cells": [
  {
   "cell_type": "code",
   "execution_count": 19,
   "metadata": {},
   "outputs": [],
   "source": [
    "import sympy as sym\n",
    "import matplotlib.pyplot as plt\n",
    "import numpy as np\n",
    "from IPython.display import display, Math\n",
    "from matplotlib.patches import Polygon"
   ]
  },
  {
   "cell_type": "code",
   "execution_count": 66,
   "metadata": {},
   "outputs": [
    {
     "data": {
      "text/latex": [
       "$\\displaystyle <function _lambdifygenerated at 0x085CFDF0>$"
      ],
      "text/plain": [
       "<IPython.core.display.Math object>"
      ]
     },
     "metadata": {},
     "output_type": "display_data"
    },
    {
     "data": {
      "image/png": "[encoded data removed]",
      "text/plain": [
       "<Figure size 432x288 with 1 Axes>"
      ]
     },
     "metadata": {
      "needs_background": "light"
     },
     "output_type": "display_data"
    }
   ],
   "source": [
    "# this code sets up two plots for area computation, and uses patches to display the area region\n",
    "\n",
    "x = sym.symbols('x')\n",
    "\n",
    "symf = x**2\n",
    "symg = x\n",
    "\n",
    "f = sym.lambdify(x,symf)\n",
    "g = sym.lambdify(x,symg)\n",
    "\n",
    "# testing---\n",
    "display(Math('%s'%(f)))\n",
    "# --------\n",
    "\n",
    "xx = np.linspace(-2,2,55)\n",
    "\n",
    "# add patch\n",
    "xpatch = np.linspace(0,1,100)\n",
    "ypatch = np.vstack((g(xpatch),f(xpatch))).T\n",
    "\n",
    "fig,ax = plt.subplots()\n",
    "ax.add_patch( Polygon(ypatch,facecolor='k',alpha=.3))\n",
    "\n",
    "plt.plot(xx,f(xx))\n",
    "plt.plot(xx,g(xx),'r')\n",
    "\n",
    "plt.legend(['$f(x)=%s$' %sym.latex(symf),'$g(x)=%s$'%sym.latex(symg)])\n",
    "plt.axis([-.25,1.25,-.5,1.5])\n",
    "plt.show()"
   ]
  },
  {
   "cell_type": "markdown",
   "metadata": {},
   "source": [
    "### Computing the area between two functions\n",
    "\n",
    "the area between two functions is given by the formula $A = \\int_{a}^{b}[f(x)-g(x)]dx$\n",
    "\n",
    "In our example, $f(x) = x^2$ and $g(x)=x$\n",
    "\n",
    "Therefore, $A = \\int_{a}^{b}(x-x^2)dx$\n",
    "\n",
    "We will comput the area between the two crossing points, that is, where the two functions are equal. This is given by the two solutions to the equation.\n",
    "\n",
    "$$x^2=x$$\n",
    "\n",
    "The two solutions are $x=0$ and $x = 1$. This gives the definite integral of $$A = \\int_{0}^{1}(x-x^2)dx$$"
   ]
  },
  {
   "cell_type": "code",
   "execution_count": 60,
   "metadata": {},
   "outputs": [
    {
     "data": {
      "text/latex": [
       "$\\displaystyle f(x) \\text { and } g(x) \\text { intersect at } x=0 \\text{ and } 1$"
      ],
      "text/plain": [
       "<IPython.core.display.Math object>"
      ]
     },
     "metadata": {},
     "output_type": "display_data"
    },
    {
     "data": {
      "text/latex": [
       "$\\displaystyle \\text{the area between these functions is } 1/6$"
      ],
      "text/plain": [
       "<IPython.core.display.Math object>"
      ]
     },
     "metadata": {},
     "output_type": "display_data"
    }
   ],
   "source": [
    "fg_intersect = sym.solve(symf-symg)\n",
    "\n",
    "display(Math('f(x) \\\\text { and } g(x) \\\\text { intersect at } x=%g \\\\text{ and } %g' %(fg_intersect[0],fg_intersect[1])))\n",
    "\n",
    "#compute the area\n",
    "A = sym.integrate(symg-symf,(x,fg_intersect[0],fg_intersect[1]))\n",
    "display(Math('\\\\text{the area between these functions is } %s' %(A)))"
   ]
  }
 ],
 "metadata": {
  "kernelspec": {
   "display_name": "Python 3",
   "language": "python",
   "name": "python3"
  },
  "language_info": {
   "codemirror_mode": {
    "name": "ipython",
    "version": 3
   },
   "file_extension": ".py",
   "mimetype": "text/x-python",
   "name": "python",
   "nbconvert_exporter": "python",
   "pygments_lexer": "ipython3",
   "version": "3.8.5"
  }
 },
 "nbformat": 4,
 "nbformat_minor": 4
}
